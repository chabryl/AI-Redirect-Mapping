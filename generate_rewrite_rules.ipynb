{
  "nbformat": 4,
  "nbformat_minor": 0,
  "metadata": {
    "colab": {
      "provenance": [],
      "authorship_tag": "ABX9TyOb+1f7YtReHixvrSMU2vtJ",
      "include_colab_link": true
    },
    "kernelspec": {
      "name": "python3",
      "display_name": "Python 3"
    },
    "language_info": {
      "name": "python"
    }
  },
  "cells": [
    {
      "cell_type": "markdown",
      "metadata": {
        "id": "view-in-github",
        "colab_type": "text"
      },
      "source": [
        "<a href=\"https://colab.research.google.com/github/chabryl/AI-Redirect-Mapping/blob/main/generate_rewrite_rules.ipynb\" target=\"_parent\"><img src=\"https://colab.research.google.com/assets/colab-badge.svg\" alt=\"Open In Colab\"/></a>"
      ]
    },
    {
      "cell_type": "code",
      "execution_count": null,
      "metadata": {
        "id": "6_k460L6UrW4"
      },
      "outputs": [],
      "source": [
        "import pandas as pd\n",
        "from urllib.parse import urlparse\n",
        "from datetime import datetime\n",
        "from google.colab import files\n",
        "\n",
        "# Schritt 1: CSV-Datei hochladen\n",
        "uploaded = files.upload()\n",
        "\n",
        "# CSV-Datei laden\n",
        "df = pd.read_csv(list(uploaded.keys())[0])\n",
        "\n",
        "# Erste Zeilen anzeigen\n",
        "print(df.head())\n",
        "\n",
        "# Schritt 2: Konvertiere die Spalte 'similarity_score' zu float\n",
        "df['similarity_score'] = pd.to_numeric(df['similarity_score'], errors='coerce')\n",
        "\n",
        "# Definieren des Schwellenwerts für den Similarity Score\n",
        "score_threshold = 0.91\n",
        "\n",
        "# URLs filtern, die sich für redirects.txt qualifizieren\n",
        "df_redirects = df[\n",
        "    (df['origin_language'] == df['matched_language']) &\n",
        "    (df['similarity_score'] >= score_threshold) &\n",
        "    (df['origin_url'] != df['matched_url'])  # Kein Self-Redirect\n",
        "]\n",
        "\n",
        "# Schritt 3: Funktion zur Umwandlung absoluter URLs in relative URLs\n",
        "def convert_to_relative(url):\n",
        "    \"\"\"Konvertiert eine absolute URL zu einer relativen URL.\"\"\"\n",
        "    parsed_url = urlparse(url)\n",
        "    return parsed_url.path\n",
        "\n",
        "# Generieren der Apache-kompatiblen Rewrite-Regeln\n",
        "def generate_apache_rewrite_rule(origin_url, matched_url):\n",
        "    relative_origin = convert_to_relative(origin_url)\n",
        "    relative_matched = convert_to_relative(matched_url)\n",
        "\n",
        "    # Vermeiden von Self-Redirects und Schleifen\n",
        "    if relative_origin != relative_matched:\n",
        "        # Apache RewriteRule Format mit R=301,L für permanente Weiterleitung\n",
        "        return f\"RewriteRule ^{relative_origin}$ {relative_matched} [R=301,L]\"\n",
        "    return None\n",
        "\n",
        "# Erstellen der Apache-kompatiblen Rewrite-Regeln für alle qualifizierten URLs\n",
        "rewrite_rules = df_redirects[['origin_url', 'matched_url']].apply(\n",
        "    lambda row: generate_apache_rewrite_rule(row['origin_url'], row['matched_url']), axis=1)\n",
        "\n",
        "# Bereinigen der Regeln und Datum hinzufügen\n",
        "current_date = datetime.now().strftime(\"%Y-%m-%d\")\n",
        "output_file = 'redirects.txt'\n",
        "\n",
        "with open(output_file, 'w') as f:\n",
        "    f.write(f\"# Apache Rewrite rules generated on {current_date}\\n\")\n",
        "    for rule in rewrite_rules:\n",
        "        if rule:  # Nur gültige Rewrite-Regeln hinzufügen\n",
        "            f.write(f\"{rule}\\n\")\n",
        "\n",
        "print(\"Die Datei 'redirects.txt' mit Apache Rewrite-Regeln wurde erstellt.\")\n",
        "\n",
        "# Schritt 4: URLs für manuelle Überprüfung speichern\n",
        "# Prüfen, ob auch bei diesen URLs 'origin' und 'destination' als relative URL identisch sind\n",
        "df_manual_matching = df[\n",
        "    ~((df['origin_language'] == df['matched_language']) &\n",
        "    (df['similarity_score'] >= score_threshold))\n",
        "]\n",
        "\n",
        "# Filter für URLs, bei denen 'origin_url' und 'matched_url' als relative URL gleich sind\n",
        "df_manual_matching['relative_origin'] = df_manual_matching['origin_url'].apply(convert_to_relative)\n",
        "df_manual_matching['relative_matched'] = df_manual_matching['matched_url'].apply(convert_to_relative)\n",
        "\n",
        "# URLs herausfiltern, bei denen 'relative_origin' nicht gleich 'relative_matched' ist\n",
        "df_manual_matching_filtered = df_manual_matching[\n",
        "    df_manual_matching['relative_origin'] != df_manual_matching['relative_matched']\n",
        "]\n",
        "\n",
        "# Datei url_for_manual_matching.csv speichern\n",
        "df_manual_matching_filtered.to_csv('url_for_manual_matching.csv', index=False)\n",
        "\n",
        "print(\"Die Datei 'url_for_manual_matching.csv' wurde aktualisiert.\")\n",
        "\n",
        "# Schritt 5: Dateien herunterladen\n",
        "files.download('redirects.txt')\n",
        "files.download('url_for_manual_matching.csv')"
      ]
    }
  ]
}